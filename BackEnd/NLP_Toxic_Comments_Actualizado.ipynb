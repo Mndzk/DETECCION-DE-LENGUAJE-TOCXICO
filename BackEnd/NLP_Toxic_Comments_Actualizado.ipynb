{
 "cells": [
  {
   "cell_type": "markdown",
   "id": "1c869de2",
   "metadata": {},
   "source": [
    "# 🧠 Proyecto NLP - Clasificación de Comentarios Tóxicos\n",
    "Este proyecto aplica procesamiento de lenguaje natural (NLP) para clasificar comentarios en distintas categorías de toxicidad. Se basa en el dataset de Kaggle *Toxic Comment Classification Challenge*."
   ]
  },
  {
   "cell_type": "markdown",
   "id": "697b71b6",
   "metadata": {},
   "source": [
    "## 1. Carga de datos"
   ]
  },
  {
   "cell_type": "code",
   "execution_count": 1,
   "id": "646178f7",
   "metadata": {},
   "outputs": [
    {
     "data": {
      "text/html": [
       "<div>\n",
       "<style scoped>\n",
       "    .dataframe tbody tr th:only-of-type {\n",
       "        vertical-align: middle;\n",
       "    }\n",
       "\n",
       "    .dataframe tbody tr th {\n",
       "        vertical-align: top;\n",
       "    }\n",
       "\n",
       "    .dataframe thead th {\n",
       "        text-align: right;\n",
       "    }\n",
       "</style>\n",
       "<table border=\"1\" class=\"dataframe\">\n",
       "  <thead>\n",
       "    <tr style=\"text-align: right;\">\n",
       "      <th></th>\n",
       "      <th>id</th>\n",
       "      <th>comment_text</th>\n",
       "      <th>toxic</th>\n",
       "      <th>severe_toxic</th>\n",
       "      <th>obscene</th>\n",
       "      <th>threat</th>\n",
       "      <th>insult</th>\n",
       "      <th>identity_hate</th>\n",
       "    </tr>\n",
       "  </thead>\n",
       "  <tbody>\n",
       "    <tr>\n",
       "      <th>0</th>\n",
       "      <td>0000997932d777bf</td>\n",
       "      <td>Explanation\\nWhy the edits made under my usern...</td>\n",
       "      <td>0</td>\n",
       "      <td>0</td>\n",
       "      <td>0</td>\n",
       "      <td>0</td>\n",
       "      <td>0</td>\n",
       "      <td>0</td>\n",
       "    </tr>\n",
       "    <tr>\n",
       "      <th>1</th>\n",
       "      <td>000103f0d9cfb60f</td>\n",
       "      <td>D'aww! He matches this background colour I'm s...</td>\n",
       "      <td>0</td>\n",
       "      <td>0</td>\n",
       "      <td>0</td>\n",
       "      <td>0</td>\n",
       "      <td>0</td>\n",
       "      <td>0</td>\n",
       "    </tr>\n",
       "    <tr>\n",
       "      <th>2</th>\n",
       "      <td>000113f07ec002fd</td>\n",
       "      <td>Hey man, I'm really not trying to edit war. It...</td>\n",
       "      <td>0</td>\n",
       "      <td>0</td>\n",
       "      <td>0</td>\n",
       "      <td>0</td>\n",
       "      <td>0</td>\n",
       "      <td>0</td>\n",
       "    </tr>\n",
       "    <tr>\n",
       "      <th>3</th>\n",
       "      <td>0001b41b1c6bb37e</td>\n",
       "      <td>\"\\nMore\\nI can't make any real suggestions on ...</td>\n",
       "      <td>0</td>\n",
       "      <td>0</td>\n",
       "      <td>0</td>\n",
       "      <td>0</td>\n",
       "      <td>0</td>\n",
       "      <td>0</td>\n",
       "    </tr>\n",
       "    <tr>\n",
       "      <th>4</th>\n",
       "      <td>0001d958c54c6e35</td>\n",
       "      <td>You, sir, are my hero. Any chance you remember...</td>\n",
       "      <td>0</td>\n",
       "      <td>0</td>\n",
       "      <td>0</td>\n",
       "      <td>0</td>\n",
       "      <td>0</td>\n",
       "      <td>0</td>\n",
       "    </tr>\n",
       "  </tbody>\n",
       "</table>\n",
       "</div>"
      ],
      "text/plain": [
       "                 id                                       comment_text  toxic  \\\n",
       "0  0000997932d777bf  Explanation\\nWhy the edits made under my usern...      0   \n",
       "1  000103f0d9cfb60f  D'aww! He matches this background colour I'm s...      0   \n",
       "2  000113f07ec002fd  Hey man, I'm really not trying to edit war. It...      0   \n",
       "3  0001b41b1c6bb37e  \"\\nMore\\nI can't make any real suggestions on ...      0   \n",
       "4  0001d958c54c6e35  You, sir, are my hero. Any chance you remember...      0   \n",
       "\n",
       "   severe_toxic  obscene  threat  insult  identity_hate  \n",
       "0             0        0       0       0              0  \n",
       "1             0        0       0       0              0  \n",
       "2             0        0       0       0              0  \n",
       "3             0        0       0       0              0  \n",
       "4             0        0       0       0              0  "
      ]
     },
     "execution_count": 1,
     "metadata": {},
     "output_type": "execute_result"
    }
   ],
   "source": [
    "import pandas as pd\n",
    "import numpy as np\n",
    "import matplotlib.pyplot as plt\n",
    "import seaborn as sns\n",
    "\n",
    "# Cargar dataset\n",
    "df = pd.read_csv('train.csv')\n",
    "df.head()"
   ]
  },
  {
   "cell_type": "markdown",
   "id": "7d532b0b",
   "metadata": {},
   "source": [
    "## 2. Exploración y distribución de etiquetas"
   ]
  },
  {
   "cell_type": "code",
   "execution_count": 2,
   "id": "02c1dacc",
   "metadata": {},
   "outputs": [
    {
     "data": {
      "image/png": "[encoded data removed]",
      "text/plain": [
       "<Figure size 640x480 with 1 Axes>"
      ]
     },
     "metadata": {},
     "output_type": "display_data"
    }
   ],
   "source": [
    "# Columnas objetivo\n",
    "labels = ['toxic', 'severe_toxic', 'obscene', 'threat', 'insult', 'identity_hate']\n",
    "df[labels].sum().sort_values().plot(kind='barh', color='salmon')\n",
    "plt.title('Distribución de clases')\n",
    "plt.show()"
   ]
  },
  {
   "cell_type": "code",
   "execution_count": 3,
   "id": "b3f67a90",
   "metadata": {},
   "outputs": [
    {
     "name": "stderr",
     "output_type": "stream",
     "text": [
      "[nltk_data] Downloading package stopwords to\n",
      "[nltk_data]     C:\\Users\\Mendo\\AppData\\Roaming\\nltk_data...\n",
      "[nltk_data]   Package stopwords is already up-to-date!\n"
     ]
    },
    {
     "data": {
      "text/plain": [
       "True"
      ]
     },
     "execution_count": 3,
     "metadata": {},
     "output_type": "execute_result"
    }
   ],
   "source": [
    "import nltk\n",
    "nltk.download('stopwords')"
   ]
  },
  {
   "cell_type": "markdown",
   "id": "a41cf58d",
   "metadata": {},
   "source": [
    "## 3. Preprocesamiento de texto"
   ]
  },
  {
   "cell_type": "code",
   "execution_count": 4,
   "id": "70287ce8",
   "metadata": {},
   "outputs": [
    {
     "data": {
      "text/html": [
       "<div>\n",
       "<style scoped>\n",
       "    .dataframe tbody tr th:only-of-type {\n",
       "        vertical-align: middle;\n",
       "    }\n",
       "\n",
       "    .dataframe tbody tr th {\n",
       "        vertical-align: top;\n",
       "    }\n",
       "\n",
       "    .dataframe thead th {\n",
       "        text-align: right;\n",
       "    }\n",
       "</style>\n",
       "<table border=\"1\" class=\"dataframe\">\n",
       "  <thead>\n",
       "    <tr style=\"text-align: right;\">\n",
       "      <th></th>\n",
       "      <th>comment_text</th>\n",
       "      <th>comment_text_clean</th>\n",
       "    </tr>\n",
       "  </thead>\n",
       "  <tbody>\n",
       "    <tr>\n",
       "      <th>0</th>\n",
       "      <td>Explanation\\nWhy the edits made under my usern...</td>\n",
       "      <td>explan edit made usernam hardcor metallica fan...</td>\n",
       "    </tr>\n",
       "    <tr>\n",
       "      <th>1</th>\n",
       "      <td>D'aww! He matches this background colour I'm s...</td>\n",
       "      <td>daww match background colour im seem stuck tha...</td>\n",
       "    </tr>\n",
       "    <tr>\n",
       "      <th>2</th>\n",
       "      <td>Hey man, I'm really not trying to edit war. It...</td>\n",
       "      <td>hey man im realli tri edit war guy constant re...</td>\n",
       "    </tr>\n",
       "    <tr>\n",
       "      <th>3</th>\n",
       "      <td>\"\\nMore\\nI can't make any real suggestions on ...</td>\n",
       "      <td>cant make real suggest improv wonder section s...</td>\n",
       "    </tr>\n",
       "    <tr>\n",
       "      <th>4</th>\n",
       "      <td>You, sir, are my hero. Any chance you remember...</td>\n",
       "      <td>sir hero chanc rememb page that</td>\n",
       "    </tr>\n",
       "  </tbody>\n",
       "</table>\n",
       "</div>"
      ],
      "text/plain": [
       "                                        comment_text  \\\n",
       "0  Explanation\\nWhy the edits made under my usern...   \n",
       "1  D'aww! He matches this background colour I'm s...   \n",
       "2  Hey man, I'm really not trying to edit war. It...   \n",
       "3  \"\\nMore\\nI can't make any real suggestions on ...   \n",
       "4  You, sir, are my hero. Any chance you remember...   \n",
       "\n",
       "                                  comment_text_clean  \n",
       "0  explan edit made usernam hardcor metallica fan...  \n",
       "1  daww match background colour im seem stuck tha...  \n",
       "2  hey man im realli tri edit war guy constant re...  \n",
       "3  cant make real suggest improv wonder section s...  \n",
       "4                    sir hero chanc rememb page that  "
      ]
     },
     "execution_count": 4,
     "metadata": {},
     "output_type": "execute_result"
    }
   ],
   "source": [
    "import re\n",
    "import string\n",
    "from nltk.corpus import stopwords\n",
    "from nltk.stem import SnowballStemmer\n",
    "\n",
    "stop_words = set(stopwords.words('english'))\n",
    "stemmer = SnowballStemmer('english')\n",
    "\n",
    "def clean_text(text):\n",
    "    text = text.lower()\n",
    "    text = re.sub(r'\\d+', '', text)\n",
    "    text = text.translate(str.maketrans('', '', string.punctuation))\n",
    "    tokens = text.split()\n",
    "    tokens = [word for word in tokens if word not in stop_words]\n",
    "    tokens = [stemmer.stem(word) for word in tokens]\n",
    "    return ' '.join(tokens)\n",
    "\n",
    "df['comment_text_clean'] = df['comment_text'].apply(clean_text)\n",
    "df[['comment_text', 'comment_text_clean']].head()"
   ]
  },
  {
   "cell_type": "markdown",
   "id": "582a4ec3",
   "metadata": {},
   "source": [
    "## 4. Vectorización TF-IDF"
   ]
  },
  {
   "cell_type": "code",
   "execution_count": 8,
   "id": "89b7849b",
   "metadata": {},
   "outputs": [],
   "source": [
    "from sklearn.feature_extraction.text import TfidfVectorizer\n",
    "\n",
    "vectorizer = TfidfVectorizer(max_features=10000, ngram_range=(1,2))\n",
    "X = vectorizer.fit_transform(df['comment_text_clean'])\n",
    "y = df[labels].values"
   ]
  },
  {
   "cell_type": "markdown",
   "id": "842ae755",
   "metadata": {},
   "source": [
    "## 5. Modelos base: Logistic Regression y Naive Bayes"
   ]
  },
  {
   "cell_type": "code",
   "execution_count": null,
   "id": "d3093465",
   "metadata": {},
   "outputs": [
    {
     "name": "stdout",
     "output_type": "stream",
     "text": [
      "Entrenando modelo: LogisticRegression\n",
      "Entrenando modelo: RandomForest\n",
      "Entrenando modelo: LinearSVC\n"
     ]
    }
   ],
   "source": [
    "from sklearn.model_selection import train_test_split\n",
    "from sklearn.linear_model import LogisticRegression\n",
    "from sklearn.naive_bayes import MultinomialNB\n",
    "from sklearn.metrics import f1_score\n",
    "from sklearn.ensemble import RandomForestClassifier\n",
    "from sklearn.svm import LinearSVC\n",
    "from sklearn.multiclass import OneVsRestClassifier\n",
    "#from xgboost import XGBClassifier\n",
    "\n",
    "\n",
    "X_train, X_test, y_train, y_test = train_test_split(X, y, test_size=0.2, random_state=42)\n",
    "\n",
    "# Probar ambos modelos\n",
    "# Modelos a comparar\n",
    "models_to_test = {\n",
    "\"LogisticRegression\": OneVsRestClassifier(LogisticRegression(max_iter=1000)),\n",
    "    \"RandomForest\": RandomForestClassifier(n_estimators=100, random_state=42, n_jobs=-1),\n",
    "    \"LinearSVC\": OneVsRestClassifier(LinearSVC(max_iter=1000)),\n",
    "    #\"XGBoost\": OneVsRestClassifier(XGBClassifier(use_label_encoder=False, eval_metric='logloss', verbosity=0))\n",
    "    # ⚠️ Nota: Se comenta XGBoost por incompatibilidad con scikit-learn en esta versión.\n",
    "# Si se desea usar, actualizar XGBoost a >= 1.6.1 con: pip install --upgrade xgboost\n",
    "\n",
    "}\n",
    "\n",
    "# Entrenar y evaluar\n",
    "model_f1_results = {}\n",
    "for name, model in models_to_test.items():\n",
    "    print(f\"Entrenando modelo: {name}\")\n",
    "    model.fit(X_train, y_train)\n",
    "    y_pred = model.predict(X_test)\n",
    "    f1s = [f1_score(y_test[:, i], y_pred[:, i], zero_division=0) for i in range(6)]\n",
    "    model_f1_results[name] = {\n",
    "        \"F1 por clase\": [round(f, 3) for f in f1s],\n",
    "        \"F1 promedio\": round(np.mean(f1s), 3)\n",
    "    }"
   ]
  },
  {
   "cell_type": "markdown",
   "id": "0728fc45",
   "metadata": {},
   "source": [
    "## 6. Red Neuronal Simple (Keras)"
   ]
  },
  {
   "cell_type": "code",
   "execution_count": 12,
   "id": "1ea8a5a2",
   "metadata": {},
   "outputs": [
    {
     "name": "stderr",
     "output_type": "stream",
     "text": [
      "c:\\Users\\Mendo\\anaconda3\\envs\\nlp_tensorflow\\lib\\site-packages\\keras\\src\\layers\\core\\dense.py:87: UserWarning: Do not pass an `input_shape`/`input_dim` argument to a layer. When using Sequential models, prefer using an `Input(shape)` object as the first layer in the model instead.\n",
      "  super().__init__(activity_regularizer=activity_regularizer, **kwargs)\n"
     ]
    },
    {
     "data": {
      "text/html": [
       "<pre style=\"white-space:pre;overflow-x:auto;line-height:normal;font-family:Menlo,'DejaVu Sans Mono',consolas,'Courier New',monospace\"><span style=\"font-weight: bold\">Model: \"sequential\"</span>\n",
       "</pre>\n"
      ],
      "text/plain": [
       "\u001b[1mModel: \"sequential\"\u001b[0m\n"
      ]
     },
     "metadata": {},
     "output_type": "display_data"
    },
    {
     "data": {
      "text/html": [
       "<pre style=\"white-space:pre;overflow-x:auto;line-height:normal;font-family:Menlo,'DejaVu Sans Mono',consolas,'Courier New',monospace\">┏━━━━━━━━━━━━━━━━━━━━━━━━━━━━━━━━━┳━━━━━━━━━━━━━━━━━━━━━━━━┳━━━━━━━━━━━━━━━┓\n",
       "┃<span style=\"font-weight: bold\"> Layer (type)                    </span>┃<span style=\"font-weight: bold\"> Output Shape           </span>┃<span style=\"font-weight: bold\">       Param # </span>┃\n",
       "┡━━━━━━━━━━━━━━━━━━━━━━━━━━━━━━━━━╇━━━━━━━━━━━━━━━━━━━━━━━━╇━━━━━━━━━━━━━━━┩\n",
       "│ dense (<span style=\"color: #0087ff; text-decoration-color: #0087ff\">Dense</span>)                   │ (<span style=\"color: #00d7ff; text-decoration-color: #00d7ff\">None</span>, <span style=\"color: #00af00; text-decoration-color: #00af00\">256</span>)            │     <span style=\"color: #00af00; text-decoration-color: #00af00\">2,560,256</span> │\n",
       "├─────────────────────────────────┼────────────────────────┼───────────────┤\n",
       "│ dropout (<span style=\"color: #0087ff; text-decoration-color: #0087ff\">Dropout</span>)               │ (<span style=\"color: #00d7ff; text-decoration-color: #00d7ff\">None</span>, <span style=\"color: #00af00; text-decoration-color: #00af00\">256</span>)            │             <span style=\"color: #00af00; text-decoration-color: #00af00\">0</span> │\n",
       "├─────────────────────────────────┼────────────────────────┼───────────────┤\n",
       "│ dense_1 (<span style=\"color: #0087ff; text-decoration-color: #0087ff\">Dense</span>)                 │ (<span style=\"color: #00d7ff; text-decoration-color: #00d7ff\">None</span>, <span style=\"color: #00af00; text-decoration-color: #00af00\">6</span>)              │         <span style=\"color: #00af00; text-decoration-color: #00af00\">1,542</span> │\n",
       "└─────────────────────────────────┴────────────────────────┴───────────────┘\n",
       "</pre>\n"
      ],
      "text/plain": [
       "┏━━━━━━━━━━━━━━━━━━━━━━━━━━━━━━━━━┳━━━━━━━━━━━━━━━━━━━━━━━━┳━━━━━━━━━━━━━━━┓\n",
       "┃\u001b[1m \u001b[0m\u001b[1mLayer (type)                   \u001b[0m\u001b[1m \u001b[0m┃\u001b[1m \u001b[0m\u001b[1mOutput Shape          \u001b[0m\u001b[1m \u001b[0m┃\u001b[1m \u001b[0m\u001b[1m      Param #\u001b[0m\u001b[1m \u001b[0m┃\n",
       "┡━━━━━━━━━━━━━━━━━━━━━━━━━━━━━━━━━╇━━━━━━━━━━━━━━━━━━━━━━━━╇━━━━━━━━━━━━━━━┩\n",
       "│ dense (\u001b[38;5;33mDense\u001b[0m)                   │ (\u001b[38;5;45mNone\u001b[0m, \u001b[38;5;34m256\u001b[0m)            │     \u001b[38;5;34m2,560,256\u001b[0m │\n",
       "├─────────────────────────────────┼────────────────────────┼───────────────┤\n",
       "│ dropout (\u001b[38;5;33mDropout\u001b[0m)               │ (\u001b[38;5;45mNone\u001b[0m, \u001b[38;5;34m256\u001b[0m)            │             \u001b[38;5;34m0\u001b[0m │\n",
       "├─────────────────────────────────┼────────────────────────┼───────────────┤\n",
       "│ dense_1 (\u001b[38;5;33mDense\u001b[0m)                 │ (\u001b[38;5;45mNone\u001b[0m, \u001b[38;5;34m6\u001b[0m)              │         \u001b[38;5;34m1,542\u001b[0m │\n",
       "└─────────────────────────────────┴────────────────────────┴───────────────┘\n"
      ]
     },
     "metadata": {},
     "output_type": "display_data"
    },
    {
     "data": {
      "text/html": [
       "<pre style=\"white-space:pre;overflow-x:auto;line-height:normal;font-family:Menlo,'DejaVu Sans Mono',consolas,'Courier New',monospace\"><span style=\"font-weight: bold\"> Total params: </span><span style=\"color: #00af00; text-decoration-color: #00af00\">2,561,798</span> (9.77 MB)\n",
       "</pre>\n"
      ],
      "text/plain": [
       "\u001b[1m Total params: \u001b[0m\u001b[38;5;34m2,561,798\u001b[0m (9.77 MB)\n"
      ]
     },
     "metadata": {},
     "output_type": "display_data"
    },
    {
     "data": {
      "text/html": [
       "<pre style=\"white-space:pre;overflow-x:auto;line-height:normal;font-family:Menlo,'DejaVu Sans Mono',consolas,'Courier New',monospace\"><span style=\"font-weight: bold\"> Trainable params: </span><span style=\"color: #00af00; text-decoration-color: #00af00\">2,561,798</span> (9.77 MB)\n",
       "</pre>\n"
      ],
      "text/plain": [
       "\u001b[1m Trainable params: \u001b[0m\u001b[38;5;34m2,561,798\u001b[0m (9.77 MB)\n"
      ]
     },
     "metadata": {},
     "output_type": "display_data"
    },
    {
     "data": {
      "text/html": [
       "<pre style=\"white-space:pre;overflow-x:auto;line-height:normal;font-family:Menlo,'DejaVu Sans Mono',consolas,'Courier New',monospace\"><span style=\"font-weight: bold\"> Non-trainable params: </span><span style=\"color: #00af00; text-decoration-color: #00af00\">0</span> (0.00 B)\n",
       "</pre>\n"
      ],
      "text/plain": [
       "\u001b[1m Non-trainable params: \u001b[0m\u001b[38;5;34m0\u001b[0m (0.00 B)\n"
      ]
     },
     "metadata": {},
     "output_type": "display_data"
    }
   ],
   "source": [
    "from tensorflow.keras.models import Sequential\n",
    "from tensorflow.keras.layers import Dense, Dropout\n",
    "\n",
    "model = Sequential([\n",
    "    Dense(256, activation='relu', input_shape=(X.shape[1],)),\n",
    "    Dropout(0.5),\n",
    "    Dense(6, activation='sigmoid')\n",
    "])\n",
    "\n",
    "model.compile(loss='binary_crossentropy', optimizer='adam', metrics=['accuracy'])\n",
    "model.summary()"
   ]
  },
  {
   "cell_type": "code",
   "execution_count": 13,
   "id": "f92dadcf",
   "metadata": {},
   "outputs": [
    {
     "name": "stdout",
     "output_type": "stream",
     "text": [
      "Epoch 1/3\n",
      "\u001b[1m250/250\u001b[0m \u001b[32m━━━━━━━━━━━━━━━━━━━━\u001b[0m\u001b[37m\u001b[0m \u001b[1m14s\u001b[0m 48ms/step - accuracy: 0.4972 - loss: 0.3087 - val_accuracy: 0.9941 - val_loss: 0.0725\n",
      "Epoch 2/3\n",
      "\u001b[1m250/250\u001b[0m \u001b[32m━━━━━━━━━━━━━━━━━━━━\u001b[0m\u001b[37m\u001b[0m \u001b[1m6s\u001b[0m 25ms/step - accuracy: 0.9816 - loss: 0.0657 - val_accuracy: 0.9941 - val_loss: 0.0595\n",
      "Epoch 3/3\n",
      "\u001b[1m250/250\u001b[0m \u001b[32m━━━━━━━━━━━━━━━━━━━━\u001b[0m\u001b[37m\u001b[0m \u001b[1m6s\u001b[0m 25ms/step - accuracy: 0.9565 - loss: 0.0551 - val_accuracy: 0.9941 - val_loss: 0.0563\n"
     ]
    },
    {
     "data": {
      "text/plain": [
       "<keras.src.callbacks.history.History at 0x27f59a1ba00>"
      ]
     },
     "execution_count": 13,
     "metadata": {},
     "output_type": "execute_result"
    }
   ],
   "source": [
    "# Entrenamiento\n",
    "X_train_nn = X_train.toarray()\n",
    "X_test_nn = X_test.toarray()\n",
    "model.fit(X_train_nn, y_train, epochs=3, batch_size=512, validation_data=(X_test_nn, y_test))"
   ]
  },
  {
   "cell_type": "markdown",
   "id": "cc93150e",
   "metadata": {},
   "source": [
    "## 7. Evaluación de la Red Neuronal"
   ]
  },
  {
   "cell_type": "code",
   "execution_count": 14,
   "id": "1ddd0d66",
   "metadata": {},
   "outputs": [
    {
     "name": "stdout",
     "output_type": "stream",
     "text": [
      "\u001b[1m998/998\u001b[0m \u001b[32m━━━━━━━━━━━━━━━━━━━━\u001b[0m\u001b[37m\u001b[0m \u001b[1m2s\u001b[0m 2ms/step\n",
      "F1 por clase: [0.745 0.199 0.754 0.    0.656 0.12 ]\n",
      "F1 promedio: 0.412\n"
     ]
    }
   ],
   "source": [
    "y_pred_nn = model.predict(X_test_nn)\n",
    "y_pred_bin = (y_pred_nn > 0.5).astype(int)\n",
    "\n",
    "f1_scores = [f1_score(y_test[:, i], y_pred_bin[:, i]) for i in range(6)]\n",
    "print(\"F1 por clase:\", np.round(f1_scores, 3))\n",
    "print(\"F1 promedio:\", np.round(np.mean(f1_scores), 3))"
   ]
  },
  {
   "cell_type": "markdown",
   "id": "f907f154",
   "metadata": {},
   "source": [
    "## 8. Conclusiones y próximos pasos"
   ]
  },
  {
   "cell_type": "markdown",
   "id": "15c1b617",
   "metadata": {},
   "source": [
    "- Los modelos base ofrecen una línea base útil para clasificación de texto multiclase.\n",
    "- La red neuronal simple mejora resultados al capturar patrones no lineales.\n",
    "- Se pueden explorar modelos preentrenados (como BERT) para mayor precisión."
   ]
  },
  {
   "cell_type": "markdown",
   "id": "293e9e3f",
   "metadata": {},
   "source": [
    "## 🔍 Comparación de Modelos Clásicos Multilabel"
   ]
  },
  {
   "cell_type": "code",
   "execution_count": 23,
   "id": "354174c1",
   "metadata": {},
   "outputs": [
    {
     "name": "stdout",
     "output_type": "stream",
     "text": [
      "Entrenando modelo: LogisticRegression\n",
      "Entrenando modelo: RandomForest\n",
      "Entrenando modelo: LinearSVC\n",
      "                    F1_toxic  F1_severe_toxic  F1_obscene  F1_threat  \\\n",
      "LogisticRegression     0.446            0.000       0.410        0.0   \n",
      "RandomForest           0.547            0.000       0.615        0.0   \n",
      "LinearSVC              0.616            0.375       0.707        0.0   \n",
      "\n",
      "                    F1_insult  F1_identity_hate F1_avg  \n",
      "LogisticRegression      0.306               0.0  0.194  \n",
      "RandomForest            0.395               0.0   0.26  \n",
      "LinearSVC               0.521               0.0   0.37  \n"
     ]
    }
   ],
   "source": [
    "# ⚠️ Se carga solo una muestra del dataset por rendimiento\n",
    "import pandas as pd\n",
    "import numpy as np\n",
    "from sklearn.model_selection import train_test_split\n",
    "from sklearn.feature_extraction.text import TfidfVectorizer\n",
    "from sklearn.linear_model import LogisticRegression\n",
    "from sklearn.ensemble import RandomForestClassifier\n",
    "from sklearn.svm import LinearSVC\n",
    "#from xgboost import XGBClassifier\n",
    "from sklearn.multiclass import OneVsRestClassifier\n",
    "from sklearn.metrics import f1_score\n",
    "\n",
    "# Leer muestra\n",
    "df = pd.read_csv(\"train.csv\", nrows=5000)\n",
    "label_columns = ['toxic', 'severe_toxic', 'obscene', 'threat', 'insult', 'identity_hate']\n",
    "df['comment_text_clean'] = df['comment_text'].fillna('').str.lower()\n",
    "vectorizer = TfidfVectorizer(max_features=3000, ngram_range=(1, 2))\n",
    "X = vectorizer.fit_transform(df['comment_text_clean'])\n",
    "y = df[label_columns].values\n",
    "\n",
    "X_train, X_test, y_train, y_test = train_test_split(X, y, test_size=0.2, random_state=42)\n",
    "\n",
    "models_to_test = {\n",
    "\"LogisticRegression\": OneVsRestClassifier(LogisticRegression(max_iter=1000)),\n",
    "    \"RandomForest\": RandomForestClassifier(n_estimators=100, random_state=42, n_jobs=-1),\n",
    "    \"LinearSVC\": OneVsRestClassifier(LinearSVC(max_iter=1000)),\n",
    "    #\"XGBoost\": OneVsRestClassifier(XGBClassifier(use_label_encoder=False, eval_metric='logloss', verbosity=0))\n",
    "}\n",
    "\n",
    "model_f1_results = {}\n",
    "for name, model in models_to_test.items():\n",
    "    print(f\"Entrenando modelo: {name}\")\n",
    "    model.fit(X_train, y_train)\n",
    "    y_pred = model.predict(X_test)\n",
    "    f1s = [f1_score(y_test[:, i], y_pred[:, i], zero_division=0) for i in range(6)]\n",
    "    model_f1_results[name] = {\n",
    "        \"F1 por clase\": [round(f, 3) for f in f1s],\n",
    "        \"F1 promedio\": round(np.mean(f1s), 3)\n",
    "    }\n",
    "\n",
    "# Crear DataFrame base desde los resultados\n",
    "results_df = pd.DataFrame(model_f1_results).T\n",
    "\n",
    "# Expandir columna \"F1 por clase\" en columnas separadas\n",
    "f1_split = pd.DataFrame(results_df['F1 por clase'].tolist(),\n",
    "                        columns=['F1_toxic', 'F1_severe_toxic', 'F1_obscene',\n",
    "                                 'F1_threat', 'F1_insult', 'F1_identity_hate'])\n",
    "# Alinear índices para que el concat quede perfecto\n",
    "f1_split.index = results_df.index\n",
    "\n",
    "# Combinar con columna de promedio\n",
    "results_df_final = pd.concat([f1_split, results_df['F1 promedio']], axis=1)\n",
    "results_df_final.columns = ['F1_toxic', 'F1_severe_toxic', 'F1_obscene',\n",
    "                            'F1_threat', 'F1_insult', 'F1_identity_hate', 'F1_avg']\n",
    "\n",
    "# Mostrar resultados finales bien estructurados\n",
    "print(results_df_final)\n",
    "\n"
   ]
  },
  {
   "cell_type": "markdown",
   "id": "409a9a54",
   "metadata": {},
   "source": [
    "## 🧠 Red Neuronal Mejorada"
   ]
  },
  {
   "cell_type": "code",
   "execution_count": 26,
   "id": "76706227",
   "metadata": {},
   "outputs": [
    {
     "name": "stderr",
     "output_type": "stream",
     "text": [
      "c:\\Users\\Mendo\\anaconda3\\envs\\nlp_tensorflow\\lib\\site-packages\\keras\\src\\layers\\core\\dense.py:87: UserWarning: Do not pass an `input_shape`/`input_dim` argument to a layer. When using Sequential models, prefer using an `Input(shape)` object as the first layer in the model instead.\n",
      "  super().__init__(activity_regularizer=activity_regularizer, **kwargs)\n"
     ]
    },
    {
     "data": {
      "text/html": [
       "<pre style=\"white-space:pre;overflow-x:auto;line-height:normal;font-family:Menlo,'DejaVu Sans Mono',consolas,'Courier New',monospace\"><span style=\"font-weight: bold\">Model: \"sequential_2\"</span>\n",
       "</pre>\n"
      ],
      "text/plain": [
       "\u001b[1mModel: \"sequential_2\"\u001b[0m\n"
      ]
     },
     "metadata": {},
     "output_type": "display_data"
    },
    {
     "data": {
      "text/html": [
       "<pre style=\"white-space:pre;overflow-x:auto;line-height:normal;font-family:Menlo,'DejaVu Sans Mono',consolas,'Courier New',monospace\">┏━━━━━━━━━━━━━━━━━━━━━━━━━━━━━━━━━┳━━━━━━━━━━━━━━━━━━━━━━━━┳━━━━━━━━━━━━━━━┓\n",
       "┃<span style=\"font-weight: bold\"> Layer (type)                    </span>┃<span style=\"font-weight: bold\"> Output Shape           </span>┃<span style=\"font-weight: bold\">       Param # </span>┃\n",
       "┡━━━━━━━━━━━━━━━━━━━━━━━━━━━━━━━━━╇━━━━━━━━━━━━━━━━━━━━━━━━╇━━━━━━━━━━━━━━━┩\n",
       "│ dense_5 (<span style=\"color: #0087ff; text-decoration-color: #0087ff\">Dense</span>)                 │ (<span style=\"color: #00d7ff; text-decoration-color: #00d7ff\">None</span>, <span style=\"color: #00af00; text-decoration-color: #00af00\">512</span>)            │     <span style=\"color: #00af00; text-decoration-color: #00af00\">1,536,512</span> │\n",
       "├─────────────────────────────────┼────────────────────────┼───────────────┤\n",
       "│ batch_normalization_1           │ (<span style=\"color: #00d7ff; text-decoration-color: #00d7ff\">None</span>, <span style=\"color: #00af00; text-decoration-color: #00af00\">512</span>)            │         <span style=\"color: #00af00; text-decoration-color: #00af00\">2,048</span> │\n",
       "│ (<span style=\"color: #0087ff; text-decoration-color: #0087ff\">BatchNormalization</span>)            │                        │               │\n",
       "├─────────────────────────────────┼────────────────────────┼───────────────┤\n",
       "│ dropout_3 (<span style=\"color: #0087ff; text-decoration-color: #0087ff\">Dropout</span>)             │ (<span style=\"color: #00d7ff; text-decoration-color: #00d7ff\">None</span>, <span style=\"color: #00af00; text-decoration-color: #00af00\">512</span>)            │             <span style=\"color: #00af00; text-decoration-color: #00af00\">0</span> │\n",
       "├─────────────────────────────────┼────────────────────────┼───────────────┤\n",
       "│ dense_6 (<span style=\"color: #0087ff; text-decoration-color: #0087ff\">Dense</span>)                 │ (<span style=\"color: #00d7ff; text-decoration-color: #00d7ff\">None</span>, <span style=\"color: #00af00; text-decoration-color: #00af00\">256</span>)            │       <span style=\"color: #00af00; text-decoration-color: #00af00\">131,328</span> │\n",
       "├─────────────────────────────────┼────────────────────────┼───────────────┤\n",
       "│ dropout_4 (<span style=\"color: #0087ff; text-decoration-color: #0087ff\">Dropout</span>)             │ (<span style=\"color: #00d7ff; text-decoration-color: #00d7ff\">None</span>, <span style=\"color: #00af00; text-decoration-color: #00af00\">256</span>)            │             <span style=\"color: #00af00; text-decoration-color: #00af00\">0</span> │\n",
       "├─────────────────────────────────┼────────────────────────┼───────────────┤\n",
       "│ dense_7 (<span style=\"color: #0087ff; text-decoration-color: #0087ff\">Dense</span>)                 │ (<span style=\"color: #00d7ff; text-decoration-color: #00d7ff\">None</span>, <span style=\"color: #00af00; text-decoration-color: #00af00\">6</span>)              │         <span style=\"color: #00af00; text-decoration-color: #00af00\">1,542</span> │\n",
       "└─────────────────────────────────┴────────────────────────┴───────────────┘\n",
       "</pre>\n"
      ],
      "text/plain": [
       "┏━━━━━━━━━━━━━━━━━━━━━━━━━━━━━━━━━┳━━━━━━━━━━━━━━━━━━━━━━━━┳━━━━━━━━━━━━━━━┓\n",
       "┃\u001b[1m \u001b[0m\u001b[1mLayer (type)                   \u001b[0m\u001b[1m \u001b[0m┃\u001b[1m \u001b[0m\u001b[1mOutput Shape          \u001b[0m\u001b[1m \u001b[0m┃\u001b[1m \u001b[0m\u001b[1m      Param #\u001b[0m\u001b[1m \u001b[0m┃\n",
       "┡━━━━━━━━━━━━━━━━━━━━━━━━━━━━━━━━━╇━━━━━━━━━━━━━━━━━━━━━━━━╇━━━━━━━━━━━━━━━┩\n",
       "│ dense_5 (\u001b[38;5;33mDense\u001b[0m)                 │ (\u001b[38;5;45mNone\u001b[0m, \u001b[38;5;34m512\u001b[0m)            │     \u001b[38;5;34m1,536,512\u001b[0m │\n",
       "├─────────────────────────────────┼────────────────────────┼───────────────┤\n",
       "│ batch_normalization_1           │ (\u001b[38;5;45mNone\u001b[0m, \u001b[38;5;34m512\u001b[0m)            │         \u001b[38;5;34m2,048\u001b[0m │\n",
       "│ (\u001b[38;5;33mBatchNormalization\u001b[0m)            │                        │               │\n",
       "├─────────────────────────────────┼────────────────────────┼───────────────┤\n",
       "│ dropout_3 (\u001b[38;5;33mDropout\u001b[0m)             │ (\u001b[38;5;45mNone\u001b[0m, \u001b[38;5;34m512\u001b[0m)            │             \u001b[38;5;34m0\u001b[0m │\n",
       "├─────────────────────────────────┼────────────────────────┼───────────────┤\n",
       "│ dense_6 (\u001b[38;5;33mDense\u001b[0m)                 │ (\u001b[38;5;45mNone\u001b[0m, \u001b[38;5;34m256\u001b[0m)            │       \u001b[38;5;34m131,328\u001b[0m │\n",
       "├─────────────────────────────────┼────────────────────────┼───────────────┤\n",
       "│ dropout_4 (\u001b[38;5;33mDropout\u001b[0m)             │ (\u001b[38;5;45mNone\u001b[0m, \u001b[38;5;34m256\u001b[0m)            │             \u001b[38;5;34m0\u001b[0m │\n",
       "├─────────────────────────────────┼────────────────────────┼───────────────┤\n",
       "│ dense_7 (\u001b[38;5;33mDense\u001b[0m)                 │ (\u001b[38;5;45mNone\u001b[0m, \u001b[38;5;34m6\u001b[0m)              │         \u001b[38;5;34m1,542\u001b[0m │\n",
       "└─────────────────────────────────┴────────────────────────┴───────────────┘\n"
      ]
     },
     "metadata": {},
     "output_type": "display_data"
    },
    {
     "data": {
      "text/html": [
       "<pre style=\"white-space:pre;overflow-x:auto;line-height:normal;font-family:Menlo,'DejaVu Sans Mono',consolas,'Courier New',monospace\"><span style=\"font-weight: bold\"> Total params: </span><span style=\"color: #00af00; text-decoration-color: #00af00\">1,671,430</span> (6.38 MB)\n",
       "</pre>\n"
      ],
      "text/plain": [
       "\u001b[1m Total params: \u001b[0m\u001b[38;5;34m1,671,430\u001b[0m (6.38 MB)\n"
      ]
     },
     "metadata": {},
     "output_type": "display_data"
    },
    {
     "data": {
      "text/html": [
       "<pre style=\"white-space:pre;overflow-x:auto;line-height:normal;font-family:Menlo,'DejaVu Sans Mono',consolas,'Courier New',monospace\"><span style=\"font-weight: bold\"> Trainable params: </span><span style=\"color: #00af00; text-decoration-color: #00af00\">1,670,406</span> (6.37 MB)\n",
       "</pre>\n"
      ],
      "text/plain": [
       "\u001b[1m Trainable params: \u001b[0m\u001b[38;5;34m1,670,406\u001b[0m (6.37 MB)\n"
      ]
     },
     "metadata": {},
     "output_type": "display_data"
    },
    {
     "data": {
      "text/html": [
       "<pre style=\"white-space:pre;overflow-x:auto;line-height:normal;font-family:Menlo,'DejaVu Sans Mono',consolas,'Courier New',monospace\"><span style=\"font-weight: bold\"> Non-trainable params: </span><span style=\"color: #00af00; text-decoration-color: #00af00\">1,024</span> (4.00 KB)\n",
       "</pre>\n"
      ],
      "text/plain": [
       "\u001b[1m Non-trainable params: \u001b[0m\u001b[38;5;34m1,024\u001b[0m (4.00 KB)\n"
      ]
     },
     "metadata": {},
     "output_type": "display_data"
    },
    {
     "name": "stdout",
     "output_type": "stream",
     "text": [
      "Epoch 1/5\n",
      "\u001b[1m8/8\u001b[0m \u001b[32m━━━━━━━━━━━━━━━━━━━━\u001b[0m\u001b[37m\u001b[0m \u001b[1m2s\u001b[0m 54ms/step - AUC: 0.3855 - loss: 0.7184 - val_AUC: 0.6983 - val_loss: 0.6458\n",
      "Epoch 2/5\n",
      "\u001b[1m8/8\u001b[0m \u001b[32m━━━━━━━━━━━━━━━━━━━━\u001b[0m\u001b[37m\u001b[0m \u001b[1m0s\u001b[0m 25ms/step - AUC: 0.7052 - loss: 0.4100 - val_AUC: 0.7990 - val_loss: 0.5702\n",
      "Epoch 3/5\n",
      "\u001b[1m8/8\u001b[0m \u001b[32m━━━━━━━━━━━━━━━━━━━━\u001b[0m\u001b[37m\u001b[0m \u001b[1m0s\u001b[0m 29ms/step - AUC: 0.8916 - loss: 0.2105 - val_AUC: 0.8349 - val_loss: 0.4731\n",
      "Epoch 4/5\n",
      "\u001b[1m8/8\u001b[0m \u001b[32m━━━━━━━━━━━━━━━━━━━━\u001b[0m\u001b[37m\u001b[0m \u001b[1m0s\u001b[0m 30ms/step - AUC: 0.9487 - loss: 0.1035 - val_AUC: 0.8663 - val_loss: 0.3856\n",
      "Epoch 5/5\n",
      "\u001b[1m8/8\u001b[0m \u001b[32m━━━━━━━━━━━━━━━━━━━━\u001b[0m\u001b[37m\u001b[0m \u001b[1m0s\u001b[0m 31ms/step - AUC: 0.9779 - loss: 0.0630 - val_AUC: 0.8891 - val_loss: 0.3191\n"
     ]
    },
    {
     "data": {
      "text/plain": [
       "<keras.src.callbacks.history.History at 0x27f5ab311b0>"
      ]
     },
     "execution_count": 26,
     "metadata": {},
     "output_type": "execute_result"
    }
   ],
   "source": [
    "from tensorflow.keras.models import Sequential\n",
    "from tensorflow.keras.layers import Dense, Dropout, BatchNormalization\n",
    "\n",
    "# Convertimos los datos TF-IDF a array para usar con Keras\n",
    "X_train_nn = X_train.toarray()\n",
    "X_test_nn = X_test.toarray()\n",
    "\n",
    "# Red más profunda + normalización + dropout\n",
    "model = Sequential([\n",
    "    Dense(512, activation='relu', input_shape=(X_train_nn.shape[1],)),\n",
    "    BatchNormalization(),\n",
    "    Dropout(0.4),\n",
    "    Dense(256, activation='relu'),\n",
    "    Dropout(0.3),\n",
    "    Dense(6, activation='sigmoid')\n",
    "])\n",
    "\n",
    "model.compile(loss='binary_crossentropy', optimizer='adam', metrics=['AUC'])\n",
    "model.summary()\n",
    "model.fit(X_train_nn, y_train, epochs=5, batch_size=512, validation_data=(X_test_nn, y_test))"
   ]
  },
  {
   "cell_type": "code",
   "execution_count": 27,
   "id": "ae85928a",
   "metadata": {},
   "outputs": [
    {
     "name": "stdout",
     "output_type": "stream",
     "text": [
      "\u001b[1m32/32\u001b[0m \u001b[32m━━━━━━━━━━━━━━━━━━━━\u001b[0m\u001b[37m\u001b[0m \u001b[1m0s\u001b[0m 4ms/step\n",
      "F1 por clase: [0.61  0.533 0.644 0.143 0.567 0.229]\n",
      "[[0.25 0.24 0.24 0.24 0.25 0.24]\n",
      " [0.24 0.26 0.24 0.25 0.25 0.25]\n",
      " [0.31 0.27 0.29 0.28 0.29 0.28]\n",
      " [0.22 0.24 0.23 0.25 0.24 0.24]\n",
      " [0.2  0.25 0.21 0.22 0.23 0.23]\n",
      " [0.21 0.23 0.23 0.22 0.23 0.24]\n",
      " [0.24 0.26 0.23 0.25 0.25 0.26]\n",
      " [0.3  0.26 0.27 0.27 0.3  0.26]\n",
      " [0.24 0.25 0.23 0.24 0.25 0.25]\n",
      " [0.24 0.24 0.25 0.26 0.25 0.25]]\n",
      "F1 promedio: 0.454\n"
     ]
    }
   ],
   "source": [
    "# Evaluación\n",
    "y_pred_nn = model.predict(X_test_nn)\n",
    "y_pred_bin = (y_pred_nn > 0.3).astype(int)\n",
    "f1_scores = [f1_score(y_test[:, i], y_pred_bin[:, i]) for i in range(6)]\n",
    "print(\"F1 por clase:\", np.round(f1_scores, 3))\n",
    "print(np.round(y_pred_nn[:10], 2))\n",
    "print(\"F1 promedio:\", np.round(np.mean(f1_scores), 3))"
   ]
  },
  {
   "cell_type": "code",
   "execution_count": 29,
   "id": "526a5aaa",
   "metadata": {},
   "outputs": [
    {
     "name": "stdout",
     "output_type": "stream",
     "text": [
      "📊 Tabla Comparativa de Modelos\n"
     ]
    },
    {
     "data": {
      "text/html": [
       "<div>\n",
       "<style scoped>\n",
       "    .dataframe tbody tr th:only-of-type {\n",
       "        vertical-align: middle;\n",
       "    }\n",
       "\n",
       "    .dataframe tbody tr th {\n",
       "        vertical-align: top;\n",
       "    }\n",
       "\n",
       "    .dataframe thead th {\n",
       "        text-align: right;\n",
       "    }\n",
       "</style>\n",
       "<table border=\"1\" class=\"dataframe\">\n",
       "  <thead>\n",
       "    <tr style=\"text-align: right;\">\n",
       "      <th></th>\n",
       "      <th>F1_toxic</th>\n",
       "      <th>F1_severe_toxic</th>\n",
       "      <th>F1_obscene</th>\n",
       "      <th>F1_threat</th>\n",
       "      <th>F1_insult</th>\n",
       "      <th>F1_identity_hate</th>\n",
       "      <th>F1_avg</th>\n",
       "    </tr>\n",
       "  </thead>\n",
       "  <tbody>\n",
       "    <tr>\n",
       "      <th>LogisticRegression</th>\n",
       "      <td>0.446</td>\n",
       "      <td>0.000</td>\n",
       "      <td>0.410</td>\n",
       "      <td>0.000</td>\n",
       "      <td>0.306</td>\n",
       "      <td>0.000</td>\n",
       "      <td>0.194</td>\n",
       "    </tr>\n",
       "    <tr>\n",
       "      <th>RandomForest</th>\n",
       "      <td>0.547</td>\n",
       "      <td>0.000</td>\n",
       "      <td>0.615</td>\n",
       "      <td>0.000</td>\n",
       "      <td>0.395</td>\n",
       "      <td>0.000</td>\n",
       "      <td>0.260</td>\n",
       "    </tr>\n",
       "    <tr>\n",
       "      <th>LinearSVC</th>\n",
       "      <td>0.616</td>\n",
       "      <td>0.375</td>\n",
       "      <td>0.707</td>\n",
       "      <td>0.000</td>\n",
       "      <td>0.521</td>\n",
       "      <td>0.000</td>\n",
       "      <td>0.370</td>\n",
       "    </tr>\n",
       "    <tr>\n",
       "      <th>RedNeuronal</th>\n",
       "      <td>0.610</td>\n",
       "      <td>0.533</td>\n",
       "      <td>0.644</td>\n",
       "      <td>0.143</td>\n",
       "      <td>0.567</td>\n",
       "      <td>0.229</td>\n",
       "      <td>0.454</td>\n",
       "    </tr>\n",
       "  </tbody>\n",
       "</table>\n",
       "</div>"
      ],
      "text/plain": [
       "                    F1_toxic  F1_severe_toxic  F1_obscene  F1_threat  \\\n",
       "LogisticRegression     0.446            0.000       0.410      0.000   \n",
       "RandomForest           0.547            0.000       0.615      0.000   \n",
       "LinearSVC              0.616            0.375       0.707      0.000   \n",
       "RedNeuronal            0.610            0.533       0.644      0.143   \n",
       "\n",
       "                    F1_insult  F1_identity_hate  F1_avg  \n",
       "LogisticRegression      0.306             0.000   0.194  \n",
       "RandomForest            0.395             0.000   0.260  \n",
       "LinearSVC               0.521             0.000   0.370  \n",
       "RedNeuronal             0.567             0.229   0.454  "
      ]
     },
     "metadata": {},
     "output_type": "display_data"
    },
    {
     "name": "stdout",
     "output_type": "stream",
     "text": [
      "Nos procedemos a quedar con la Red Neuronal, sin embargo creo que podemos mejorarla aun más!!!!\n"
     ]
    }
   ],
   "source": [
    "import pandas as pd\n",
    "\n",
    "# Tabla comparativa de desempeño de modelos\n",
    "comparacion_modelos = pd.DataFrame({\n",
    "    \"F1_toxic\": [0.446, 0.547, 0.616, 0.610],\n",
    "    \"F1_severe_toxic\": [0.000, 0.000, 0.375, 0.533],\n",
    "    \"F1_obscene\": [0.410, 0.615, 0.707, 0.644],\n",
    "    \"F1_threat\": [0.000, 0.000, 0.000, 0.143],\n",
    "    \"F1_insult\": [0.306, 0.395, 0.521, 0.567],\n",
    "    \"F1_identity_hate\": [0.000, 0.000, 0.000, 0.229],\n",
    "    \"F1_avg\": [0.194, 0.260, 0.370, 0.454]\n",
    "}, index=[\"LogisticRegression\", \"RandomForest\", \"LinearSVC\", \"RedNeuronal\"])\n",
    "\n",
    "# Mostrar tabla\n",
    "comparacion_modelos = comparacion_modelos.round(3)\n",
    "print(\"📊 Tabla Comparativa de Modelos\")\n",
    "display(comparacion_modelos)\n",
    "print(\"Nos procedemos a quedar con la Red Neuronal, sin embargo creo que podemos mejorarla aun más!!!!\")"
   ]
  },
  {
   "cell_type": "markdown",
   "id": "029a1421",
   "metadata": {},
   "source": [
    "**🧪 Clasificación Multilabel con HuggingFace + BERT**"
   ]
  },
  {
   "cell_type": "code",
   "execution_count": null,
   "id": "56f84bbd",
   "metadata": {},
   "outputs": [],
   "source": [
    "#Requisitos\n",
    "#pip install transformers datasets torch scikit-learn\n"
   ]
  },
  {
   "cell_type": "code",
   "execution_count": 42,
   "id": "0affb077",
   "metadata": {},
   "outputs": [],
   "source": [
    "import pandas as pd\n",
    "import torch\n",
    "from torch.utils.data import Dataset, DataLoader\n",
    "from transformers import BertTokenizer, BertForSequenceClassification\n",
    "from torch.optim import AdamW\n",
    "from sklearn.metrics import f1_score\n",
    "from sklearn.model_selection import train_test_split\n",
    "from transformers import get_scheduler\n",
    "from tqdm import tqdm\n",
    "\n",
    "# 1. Cargar y preparar datos\n",
    "df = pd.read_csv(\"train.csv\", nrows=20000)  # puedes ajustar\n",
    "label_cols = ['toxic', 'severe_toxic', 'obscene', 'threat', 'insult', 'identity_hate']\n",
    "df = df.fillna(\"\")\n",
    "df['labels'] = df[label_cols].values.tolist()"
   ]
  },
  {
   "cell_type": "code",
   "execution_count": 43,
   "id": "f12e0d16",
   "metadata": {},
   "outputs": [],
   "source": [
    "# 2. Split train/test\n",
    "train_texts, test_texts, train_labels, test_labels = train_test_split(\n",
    "    df['comment_text'].tolist(), df['labels'].tolist(), test_size=0.2, random_state=42\n",
    ")\n"
   ]
  },
  {
   "cell_type": "code",
   "execution_count": 44,
   "id": "c8568796",
   "metadata": {},
   "outputs": [
    {
     "name": "stderr",
     "output_type": "stream",
     "text": [
      "c:\\Users\\Mendo\\anaconda3\\envs\\nlp_tensorflow\\lib\\site-packages\\huggingface_hub\\file_download.py:144: UserWarning: `huggingface_hub` cache-system uses symlinks by default to efficiently store duplicated files but your machine does not support them in C:\\Users\\Mendo\\.cache\\huggingface\\hub\\models--bert-base-uncased. Caching files will still work but in a degraded version that might require more space on your disk. This warning can be disabled by setting the `HF_HUB_DISABLE_SYMLINKS_WARNING` environment variable. For more details, see https://huggingface.co/docs/huggingface_hub/how-to-cache#limitations.\n",
      "To support symlinks on Windows, you either need to activate Developer Mode or to run Python as an administrator. In order to activate developer mode, see this article: https://docs.microsoft.com/en-us/windows/apps/get-started/enable-your-device-for-development\n",
      "  warnings.warn(message)\n"
     ]
    }
   ],
   "source": [
    " #3. Tokenización\n",
    "tokenizer = BertTokenizer.from_pretrained(\"bert-base-uncased\")\n",
    "train_encodings = tokenizer(train_texts, truncation=True, padding=True, max_length=128)\n",
    "test_encodings = tokenizer(test_texts, truncation=True, padding=True, max_length=128)"
   ]
  },
  {
   "cell_type": "code",
   "execution_count": 45,
   "id": "bcd40a9b",
   "metadata": {},
   "outputs": [],
   "source": [
    "# 4. Dataset con PyTorch\n",
    "class ToxicDataset(Dataset):\n",
    "    def __init__(self, encodings, labels):\n",
    "        self.encodings = encodings\n",
    "        self.labels = labels\n",
    "    def __len__(self):\n",
    "        return len(self.labels)\n",
    "    def __getitem__(self, idx):\n",
    "        item = {k: torch.tensor(v[idx]) for k, v in self.encodings.items()}\n",
    "        item['labels'] = torch.tensor(self.labels[idx], dtype=torch.float)\n",
    "        return item\n",
    "\n",
    "train_dataset = ToxicDataset(train_encodings, train_labels)\n",
    "test_dataset = ToxicDataset(test_encodings, test_labels)"
   ]
  },
  {
   "cell_type": "code",
   "execution_count": 46,
   "id": "d389d454",
   "metadata": {},
   "outputs": [
    {
     "name": "stderr",
     "output_type": "stream",
     "text": [
      "Xet Storage is enabled for this repo, but the 'hf_xet' package is not installed. Falling back to regular HTTP download. For better performance, install the package with: `pip install huggingface_hub[hf_xet]` or `pip install hf_xet`\n",
      "Some weights of BertForSequenceClassification were not initialized from the model checkpoint at bert-base-uncased and are newly initialized: ['classifier.bias', 'classifier.weight']\n",
      "You should probably TRAIN this model on a down-stream task to be able to use it for predictions and inference.\n"
     ]
    }
   ],
   "source": [
    "# 5. Modelo BERT\n",
    "model = BertForSequenceClassification.from_pretrained(\n",
    "    \"bert-base-uncased\",\n",
    "    num_labels=6,\n",
    "    problem_type=\"multi_label_classification\"\n",
    ")"
   ]
  },
  {
   "cell_type": "code",
   "execution_count": 47,
   "id": "7e74a4c8",
   "metadata": {},
   "outputs": [
    {
     "name": "stdout",
     "output_type": "stream",
     "text": [
      "🔁 Epoch 1\n"
     ]
    },
    {
     "name": "stderr",
     "output_type": "stream",
     "text": [
      "Epoch 1: 100%|██████████| 1000/1000 [1:10:10<00:00,  4.21s/it, loss=0.0598]\n"
     ]
    },
    {
     "name": "stdout",
     "output_type": "stream",
     "text": [
      "🔁 Epoch 2\n"
     ]
    },
    {
     "name": "stderr",
     "output_type": "stream",
     "text": [
      "Epoch 2: 100%|██████████| 1000/1000 [1:10:17<00:00,  4.22s/it, loss=0.0598]\n"
     ]
    },
    {
     "name": "stdout",
     "output_type": "stream",
     "text": [
      "🔁 Epoch 3\n"
     ]
    },
    {
     "name": "stderr",
     "output_type": "stream",
     "text": [
      "Epoch 3: 100%|██████████| 1000/1000 [1:10:54<00:00,  4.25s/it, loss=0.116]  \n"
     ]
    }
   ],
   "source": [
    "# 6. Entrenamiento\n",
    "device = torch.device(\"cuda\" if torch.cuda.is_available() else \"cpu\")\n",
    "model.to(device)\n",
    "\n",
    "train_loader = DataLoader(train_dataset, batch_size=16, shuffle=True)\n",
    "test_loader = DataLoader(test_dataset, batch_size=64)\n",
    "\n",
    "optimizer = AdamW(model.parameters(), lr=5e-5)\n",
    "num_epochs = 3\n",
    "num_training_steps = num_epochs * len(train_loader)\n",
    "lr_scheduler = get_scheduler(\"linear\", optimizer=optimizer,\n",
    "                             num_warmup_steps=0, num_training_steps=num_training_steps)\n",
    "\n",
    "model.train()\n",
    "for epoch in range(num_epochs):\n",
    "    print(f\"🔁 Epoch {epoch + 1}\")\n",
    "    loop = tqdm(train_loader, leave=True)\n",
    "    for batch in loop:\n",
    "        batch = {k: v.to(device) for k, v in batch.items()}\n",
    "        outputs = model(**batch)\n",
    "        loss = outputs.loss\n",
    "        loss.backward()\n",
    "        optimizer.step()\n",
    "        lr_scheduler.step()\n",
    "        optimizer.zero_grad()\n",
    "        loop.set_description(f\"Epoch {epoch + 1}\")\n",
    "        loop.set_postfix(loss=loss.item())\n"
   ]
  },
  {
   "cell_type": "code",
   "execution_count": 48,
   "id": "b6c022b6",
   "metadata": {},
   "outputs": [],
   "source": [
    "# 7. Evaluación\n",
    "model.eval()\n",
    "all_preds = []\n",
    "all_labels = []\n",
    "\n",
    "with torch.no_grad():\n",
    "    for batch in test_loader:\n",
    "        batch = {k: v.to(device) for k, v in batch.items()}\n",
    "        outputs = model(**batch)\n",
    "        logits = outputs.logits\n",
    "        preds = torch.sigmoid(logits).cpu().numpy()\n",
    "        all_preds.extend(preds)\n",
    "        all_labels.extend(batch['labels'].cpu().numpy())\n"
   ]
  },
  {
   "cell_type": "code",
   "execution_count": 49,
   "id": "251287a6",
   "metadata": {},
   "outputs": [
    {
     "name": "stdout",
     "output_type": "stream",
     "text": [
      "F1 por clase: [0.798 0.423 0.826 0.4   0.731 0.444]\n",
      "F1 promedio: 0.604\n"
     ]
    }
   ],
   "source": [
    "# 8. F1 Score con threshold\n",
    "threshold = 0.5\n",
    "y_pred = (np.array(all_preds) > threshold).astype(int)\n",
    "y_true = np.array(all_labels)\n",
    "\n",
    "f1s = [f1_score(y_true[:, i], y_pred[:, i], zero_division=0) for i in range(6)]\n",
    "print(\"F1 por clase:\", np.round(f1s, 3))\n",
    "print(\"F1 promedio:\", np.round(np.mean(f1s), 3))"
   ]
  },
  {
   "cell_type": "code",
   "execution_count": 50,
   "id": "ca25b89d",
   "metadata": {},
   "outputs": [
    {
     "name": "stdout",
     "output_type": "stream",
     "text": [
      "📊 Resultados por clase:\n",
      "           Clase  F1-Score\n",
      "0          toxic     0.798\n",
      "1   severe_toxic     0.423\n",
      "2        obscene     0.826\n",
      "3         threat     0.400\n",
      "4         insult     0.731\n",
      "5  identity_hate     0.444\n",
      "F1 promedio: 0.604\n"
     ]
    }
   ],
   "source": [
    "import numpy as np\n",
    "from sklearn.metrics import f1_score\n",
    "import pandas as pd\n",
    "\n",
    "# ⚠️ Esto se ejecuta después de que termine el entrenamiento\n",
    "model.eval()\n",
    "all_preds = []\n",
    "all_labels = []\n",
    "\n",
    "with torch.no_grad():\n",
    "    for batch in test_loader:\n",
    "        batch = {k: v.to(device) for k, v in batch.items()}\n",
    "        outputs = model(**batch)\n",
    "        logits = outputs.logits\n",
    "        preds = torch.sigmoid(logits).cpu().numpy()\n",
    "        all_preds.extend(preds)\n",
    "        all_labels.extend(batch['labels'].cpu().numpy())\n",
    "\n",
    "# Convertir a numpy\n",
    "y_pred = (np.array(all_preds) > 0.5).astype(int)\n",
    "y_true = np.array(all_labels)\n",
    "\n",
    "# F1 por clase\n",
    "f1s = [f1_score(y_true[:, i], y_pred[:, i], zero_division=0) for i in range(6)]\n",
    "labels = ['toxic', 'severe_toxic', 'obscene', 'threat', 'insult', 'identity_hate']\n",
    "\n",
    "# Mostrar tabla comparativa\n",
    "tabla_f1 = pd.DataFrame({\n",
    "    \"Clase\": labels,\n",
    "    \"F1-Score\": np.round(f1s, 3)\n",
    "})\n",
    "print(\"📊 Resultados por clase:\")\n",
    "print(tabla_f1)\n",
    "print(\"F1 promedio:\", round(np.mean(f1s), 3))\n"
   ]
  },
  {
   "cell_type": "code",
   "execution_count": 52,
   "id": "f6072ee2",
   "metadata": {},
   "outputs": [
    {
     "name": "stdout",
     "output_type": "stream",
     "text": [
      "📊 Comparación final de modelos:\n"
     ]
    },
    {
     "data": {
      "text/html": [
       "<div>\n",
       "<style scoped>\n",
       "    .dataframe tbody tr th:only-of-type {\n",
       "        vertical-align: middle;\n",
       "    }\n",
       "\n",
       "    .dataframe tbody tr th {\n",
       "        vertical-align: top;\n",
       "    }\n",
       "\n",
       "    .dataframe thead th {\n",
       "        text-align: right;\n",
       "    }\n",
       "</style>\n",
       "<table border=\"1\" class=\"dataframe\">\n",
       "  <thead>\n",
       "    <tr style=\"text-align: right;\">\n",
       "      <th></th>\n",
       "      <th>F1_toxic</th>\n",
       "      <th>F1_severe_toxic</th>\n",
       "      <th>F1_obscene</th>\n",
       "      <th>F1_threat</th>\n",
       "      <th>F1_insult</th>\n",
       "      <th>F1_identity_hate</th>\n",
       "      <th>F1_avg</th>\n",
       "    </tr>\n",
       "  </thead>\n",
       "  <tbody>\n",
       "    <tr>\n",
       "      <th>Logistic</th>\n",
       "      <td>0.446</td>\n",
       "      <td>0.000</td>\n",
       "      <td>0.410</td>\n",
       "      <td>0.000</td>\n",
       "      <td>0.306</td>\n",
       "      <td>0.000</td>\n",
       "      <td>0.194</td>\n",
       "    </tr>\n",
       "    <tr>\n",
       "      <th>RandomForest</th>\n",
       "      <td>0.547</td>\n",
       "      <td>0.000</td>\n",
       "      <td>0.615</td>\n",
       "      <td>0.000</td>\n",
       "      <td>0.395</td>\n",
       "      <td>0.000</td>\n",
       "      <td>0.260</td>\n",
       "    </tr>\n",
       "    <tr>\n",
       "      <th>LinearSVC</th>\n",
       "      <td>0.616</td>\n",
       "      <td>0.375</td>\n",
       "      <td>0.707</td>\n",
       "      <td>0.000</td>\n",
       "      <td>0.521</td>\n",
       "      <td>0.000</td>\n",
       "      <td>0.370</td>\n",
       "    </tr>\n",
       "    <tr>\n",
       "      <th>RedNeuronal</th>\n",
       "      <td>0.610</td>\n",
       "      <td>0.533</td>\n",
       "      <td>0.644</td>\n",
       "      <td>0.143</td>\n",
       "      <td>0.567</td>\n",
       "      <td>0.229</td>\n",
       "      <td>0.454</td>\n",
       "    </tr>\n",
       "    <tr>\n",
       "      <th>BERT_HuggingFace</th>\n",
       "      <td>0.798</td>\n",
       "      <td>0.423</td>\n",
       "      <td>0.826</td>\n",
       "      <td>0.400</td>\n",
       "      <td>0.731</td>\n",
       "      <td>0.444</td>\n",
       "      <td>0.604</td>\n",
       "    </tr>\n",
       "  </tbody>\n",
       "</table>\n",
       "</div>"
      ],
      "text/plain": [
       "                  F1_toxic  F1_severe_toxic  F1_obscene  F1_threat  F1_insult  \\\n",
       "Logistic             0.446            0.000       0.410      0.000      0.306   \n",
       "RandomForest         0.547            0.000       0.615      0.000      0.395   \n",
       "LinearSVC            0.616            0.375       0.707      0.000      0.521   \n",
       "RedNeuronal          0.610            0.533       0.644      0.143      0.567   \n",
       "BERT_HuggingFace     0.798            0.423       0.826      0.400      0.731   \n",
       "\n",
       "                  F1_identity_hate  F1_avg  \n",
       "Logistic                     0.000   0.194  \n",
       "RandomForest                 0.000   0.260  \n",
       "LinearSVC                    0.000   0.370  \n",
       "RedNeuronal                  0.229   0.454  \n",
       "BERT_HuggingFace             0.444   0.604  "
      ]
     },
     "metadata": {},
     "output_type": "display_data"
    }
   ],
   "source": [
    "#Tabla comparativa Final\n",
    "comparacion_final = pd.DataFrame({\n",
    "    \"F1_toxic\": [0.446, 0.547, 0.616, 0.610, 0.798],\n",
    "    \"F1_severe_toxic\": [0.000, 0.000, 0.375, 0.533, 0.423],\n",
    "    \"F1_obscene\": [0.410, 0.615, 0.707, 0.644, 0.826],\n",
    "    \"F1_threat\": [0.000, 0.000, 0.000, 0.143, 0.400],\n",
    "    \"F1_insult\": [0.306, 0.395, 0.521, 0.567, 0.731],\n",
    "    \"F1_identity_hate\": [0.000, 0.000, 0.000, 0.229, 0.444],\n",
    "    \"F1_avg\": [0.194, 0.260, 0.370, 0.454, 0.604]\n",
    "}, index=[\"Logistic\", \"RandomForest\", \"LinearSVC\", \"RedNeuronal\", \"BERT_HuggingFace\"])\n",
    "\n",
    "comparacion_final = comparacion_final.round(3)\n",
    "print(\"📊 Comparación final de modelos:\")\n",
    "display(comparacion_final)\n"
   ]
  },
  {
   "cell_type": "markdown",
   "id": "8656e357",
   "metadata": {},
   "source": [
    "**✅ Guardar el modelo HuggingFace entrenado**"
   ]
  },
  {
   "cell_type": "code",
   "execution_count": 51,
   "id": "bc08d062",
   "metadata": {},
   "outputs": [
    {
     "data": {
      "text/plain": [
       "('modelo_bert_final\\\\tokenizer_config.json',\n",
       " 'modelo_bert_final\\\\special_tokens_map.json',\n",
       " 'modelo_bert_final\\\\vocab.txt',\n",
       " 'modelo_bert_final\\\\added_tokens.json')"
      ]
     },
     "execution_count": 51,
     "metadata": {},
     "output_type": "execute_result"
    }
   ],
   "source": [
    "# Crear carpeta para guardar\n",
    "model.save_pretrained(\"modelo_bert_final\")\n",
    "tokenizer.save_pretrained(\"modelo_bert_final\")\n"
   ]
  }
 ],
 "metadata": {
  "kernelspec": {
   "display_name": "nlp_tensorflow",
   "language": "python",
   "name": "python3"
  },
  "language_info": {
   "codemirror_mode": {
    "name": "ipython",
    "version": 3
   },
   "file_extension": ".py",
   "mimetype": "text/x-python",
   "name": "python",
   "nbconvert_exporter": "python",
   "pygments_lexer": "ipython3",
   "version": "3.10.16"
  }
 },
 "nbformat": 4,
 "nbformat_minor": 5
}

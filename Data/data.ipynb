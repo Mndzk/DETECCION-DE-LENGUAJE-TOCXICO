{
 "cells": [
  {
   "cell_type": "markdown",
   "id": "b4599e68",
   "metadata": {},
   "source": [
    "## 📂 Dataset\n",
    "Los datos utilizados en este proyecto provienen del desafío [Toxic Comment Classification Challenge de Kaggle](https://www.kaggle.com/datasets/julian3833/jigsaw-toxic-comment-classification-challenge).\n",
    "\n",
    "Por temas de espacio, no se incluyen en este repositorio.\n"
   ]
  }
 ],
 "metadata": {
  "language_info": {
   "name": "python"
  }
 },
 "nbformat": 4,
 "nbformat_minor": 5
}
